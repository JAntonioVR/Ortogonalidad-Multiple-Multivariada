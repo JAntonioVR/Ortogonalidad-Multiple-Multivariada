{
 "cells": [
  {
   "cell_type": "code",
   "execution_count": 1,
   "metadata": {},
   "outputs": [],
   "source": [
    "from sage.symbolic.integration.integral import integrate\n",
    "# Anillo de polinomios de dos variables\n",
    "R.<x,y> = PolynomialRing(QQ, order='degrevlex')\n",
    "\n",
    "# Producto escalar y funcional de Hermite (en dos variables)\n",
    "dot_H = lambda f, g: (f*g*e**(-x**2-y**2)).integrate(x, -infinity, infinity).integrate(y, -infinity, infinity)\n",
    "L_H = lambda P : dot_H(P,1)\n",
    "\n",
    "# Parámetros para las dos familias de polinomios de Laguerre\n",
    "alpha = 1\n",
    "beta = 3\n",
    "# Producto escalar y funcional de Laguerre (en dos variables)\n",
    "dot_L = lambda f, g: (f*g*x**(alpha)*y**(beta)*e**(-x-y)).integrate(x, 0, infinity).integrate(y, 0, infinity)\n",
    "L_L = lambda P : dot_L(P,1)\n"
   ]
  },
  {
   "cell_type": "markdown",
   "metadata": {},
   "source": [
    "Como la función nativa de sage para el cálculo de los polinomios de Laguerre es poco intuitiva, creamos nuestra propia función que utiliza la fórmula de Rodrigues para calcular polinomios de Laguerre"
   ]
  },
  {
   "cell_type": "code",
   "execution_count": 2,
   "metadata": {},
   "outputs": [],
   "source": [
    "def laguerre(n, alpha, var):\n",
    "    ''' Calcula el polinomio de Laguerre de grado n y parametro \n",
    "        'alpha' utilizando la formula de Rodrigues\n",
    "    '''\n",
    "    Bn = 1/factorial(n)\n",
    "    rho_inv = pow(var,-alpha)*e**var\n",
    "    der = derivative(var**(n+alpha)*e**(-var),var,n)\n",
    "    return (Bn*rho_inv*der).full_simplify()"
   ]
  },
  {
   "cell_type": "markdown",
   "metadata": {},
   "source": [
    "Recordamos la notación\n",
    "$$\n",
    "\\mathbb P_n = G_{n,n}\\mathbb X_n + G_{n,n-1} \\mathbb X_{n-1} +\\cdots G_{n,1}\\mathbb X_1 + G_{n,0}\\mathbb X_0,\n",
    "$$\n",
    "donde $\\mathbb X_j = (x^j, x^{j-1}y,\\dots,xy^{j-1}, y^j)^T$ es un vector de $j+1$ filas, por lo que $\\mathbb P_n$ es un vector columna de $n+1$ componentes (polinomios) y cada matrix $G_{n,j}$ es una matriz $(n+1)\\times(j+1)$.\n",
    "\n",
    "Crearemos código que, a partir de los polinomios de Hermite y Laguerre de una variable, calcule los polinomios $\\mathbb P_n$ de Hermite y de Laguerre, para posteriormente buscar ortogonalidad múltiple.\n",
    "\n",
    "Previamente, dado un vector columna de polinomios de grado $n$, $\\mathbb P_n$, conviene encontrar matrices $G_{n,n-1},\\dots,G_{n,0}$ que representen su representación de acuerdo a $\\mathbb P_n = \\displaystyle\\sum_{j=0}^n G_{n,j}\\mathbb X_j$.\n",
    "\n",
    "Pensemos en un polinomio aleatorio, por ejemplo:"
   ]
  },
  {
   "cell_type": "code",
   "execution_count": 3,
   "metadata": {},
   "outputs": [],
   "source": [
    "p = 8*x^2*y - 4*y"
   ]
  },
  {
   "cell_type": "markdown",
   "metadata": {},
   "source": [
    "Busquemos alguna forma de extraer sus coeficientes. Para ello, comencemos por encontrar sus coeficientes de un grado fijo."
   ]
  },
  {
   "cell_type": "code",
   "execution_count": 4,
   "metadata": {},
   "outputs": [
    {
     "data": {
      "text/plain": [
       "([0, 8, 0, 0], [0, 0, 0], [0, -4], [0])"
      ]
     },
     "execution_count": 4,
     "metadata": {},
     "output_type": "execute_result"
    }
   ],
   "source": [
    "coeficientes_grado = lambda p,n : [p.coefficient({x:n-j, y:j}) for j in range(n+1)]\n",
    "coeficientes_grado(p,3),coeficientes_grado(p,2), coeficientes_grado(p,1), coeficientes_grado(p,0)"
   ]
  },
  {
   "cell_type": "markdown",
   "metadata": {},
   "source": [
    "Y agrupamos las distintas listas de coeficientes en matrices fila."
   ]
  },
  {
   "cell_type": "code",
   "execution_count": 5,
   "metadata": {},
   "outputs": [
    {
     "data": {
      "text/plain": [
       "[[0], [ 0 -4], [0 0 0], [0 8 0 0]]"
      ]
     },
     "execution_count": 5,
     "metadata": {},
     "output_type": "execute_result"
    }
   ],
   "source": [
    "coeficientes = lambda p : [Matrix(coeficientes_grado(p,j)) for j in range(p.degree()+1)]\n",
    "coeficientes(p)"
   ]
  },
  {
   "cell_type": "markdown",
   "metadata": {},
   "source": [
    "Creamos los vectores $\\mathbb X_j$:"
   ]
  },
  {
   "cell_type": "code",
   "execution_count": 29,
   "metadata": {},
   "outputs": [
    {
     "data": {
      "text/plain": [
       "[\n",
       "                 [  x^3]\n",
       "          [x^2]  [x^2*y]\n",
       "     [x]  [x*y]  [x*y^2]\n",
       "[1], [y], [y^2], [  y^3]\n",
       "]"
      ]
     },
     "execution_count": 29,
     "metadata": {},
     "output_type": "execute_result"
    }
   ],
   "source": [
    "monomios_grado = lambda n : [R(x**(n-j) * y**j) for j in range(n+1)]\n",
    "X = [transpose(matrix(monomios_grado(j))) for j in range(p.degree()+1)]\n",
    "X"
   ]
  },
  {
   "cell_type": "markdown",
   "metadata": {},
   "source": [
    "Comprobemos que, si $g$ es el vector `coeficientes(p)` $\\displaystyle\\sum_{j=0}^3 g_j \\mathbb X_j = p$."
   ]
  },
  {
   "cell_type": "code",
   "execution_count": 7,
   "metadata": {},
   "outputs": [
    {
     "data": {
      "text/plain": [
       "True"
      ]
     },
     "execution_count": 7,
     "metadata": {},
     "output_type": "execute_result"
    }
   ],
   "source": [
    "matrices_coefs = coeficientes(p)\n",
    "sum(matrices_coefs[j]*X[j] for j in range(p.degree()+1))[0,0] == p"
   ]
  },
  {
   "cell_type": "markdown",
   "metadata": {},
   "source": [
    "Por lo que con el uso reiterado de la función `coeficientes` podemos obtener las matrices $G_{n,j}$. Véamoslo mejor en la práctica:"
   ]
  },
  {
   "cell_type": "code",
   "execution_count": 8,
   "metadata": {},
   "outputs": [],
   "source": [
    "def coeficientes(p):\n",
    "    p = R(p)\n",
    "    coeficientes_grado = lambda p,n : [p.coefficient({x:n-j, y:j}) for j in range(n+1)]\n",
    "    return [coeficientes_grado(p,j) for j in range(p.degree()+1)]"
   ]
  },
  {
   "cell_type": "markdown",
   "metadata": {},
   "source": [
    "# Ejemplo de biortogonalidad Hermite-Laguerre\n",
    "## Polinomios producto de Hermite"
   ]
  },
  {
   "cell_type": "markdown",
   "metadata": {},
   "source": [
    "La siguiente función calcula los polinomios de Hermite $P_{n-k,k}=H_{n-k}(x) H_k(y)$ y los coloca en un vector columna $\\mathbb P_n$."
   ]
  },
  {
   "cell_type": "code",
   "execution_count": 9,
   "metadata": {},
   "outputs": [],
   "source": [
    "def P_Hermite(n):\n",
    "    P = [R(hermite(n-k,x)*hermite(k,y)) for k in range(n+1)]\n",
    "    P = [p/p.lc() for p in P] # polinomios monicos\n",
    "    return transpose(matrix(P))"
   ]
  },
  {
   "cell_type": "code",
   "execution_count": 10,
   "metadata": {},
   "outputs": [
    {
     "data": {
      "text/plain": [
       "[x^2 - 1/2]\n",
       "[      x*y]\n",
       "[y^2 - 1/2]"
      ]
     },
     "execution_count": 10,
     "metadata": {},
     "output_type": "execute_result"
    }
   ],
   "source": [
    "P_Hermite(2)"
   ]
  },
  {
   "cell_type": "markdown",
   "metadata": {},
   "source": [
    "Obsérvese el monomio líder de cada polinomio. Estos vectores columna representan los vectores columna $\\mathbb P_n$. Veamos ahora cómo obtener su representación $\\mathbb P_n = \\mathbb X_n + G_{n,n-1} \\mathbb X_{n-1} +\\cdots G_{n,1}\\mathbb X_1 + G_{n,0}\\mathbb X_0$. Elegimos un $n$ al azar, por ejemplo $n=3$."
   ]
  },
  {
   "cell_type": "code",
   "execution_count": 11,
   "metadata": {},
   "outputs": [
    {
     "data": {
      "text/plain": [
       "[  x^3 - 3/2*x]\n",
       "[x^2*y - 1/2*y]\n",
       "[x*y^2 - 1/2*x]\n",
       "[  y^3 - 3/2*y]"
      ]
     },
     "execution_count": 11,
     "metadata": {},
     "output_type": "execute_result"
    }
   ],
   "source": [
    "P = P_Hermite(3)\n",
    "P"
   ]
  },
  {
   "cell_type": "markdown",
   "metadata": {},
   "source": [
    "Extraemos los coeficientes de cada polinomio y los colocamos en matrices"
   ]
  },
  {
   "cell_type": "code",
   "execution_count": 12,
   "metadata": {},
   "outputs": [
    {
     "data": {
      "text/plain": [
       "[\n",
       "[0]  [-3/2    0]  [0 0 0]  [1 0 0 0]\n",
       "[0]  [   0 -1/2]  [0 0 0]  [0 1 0 0]\n",
       "[0]  [-1/2    0]  [0 0 0]  [0 0 1 0]\n",
       "[0], [   0 -3/2], [0 0 0], [0 0 0 1]\n",
       "]"
      ]
     },
     "execution_count": 12,
     "metadata": {},
     "output_type": "execute_result"
    }
   ],
   "source": [
    "coefs_P = [coeficientes(p) for p in P.list()]\n",
    "matrices_G = [Matrix([coefs_P[j][i] for j in range(len(coefs_P))]) for i in range(4)]\n",
    "matrices_G"
   ]
  },
  {
   "cell_type": "markdown",
   "metadata": {},
   "source": [
    "Comprobamos"
   ]
  },
  {
   "cell_type": "code",
   "execution_count": 13,
   "metadata": {
    "scrolled": true
   },
   "outputs": [
    {
     "data": {
      "text/plain": [
       "[0]\n",
       "[0]\n",
       "[0]\n",
       "[0]"
      ]
     },
     "execution_count": 13,
     "metadata": {},
     "output_type": "execute_result"
    }
   ],
   "source": [
    "sum(matriz*monomio for matriz, monomio in zip(matrices_G, X)) - P # Debe ser 0"
   ]
  },
  {
   "cell_type": "markdown",
   "metadata": {},
   "source": [
    "Tenemos por tanto una forma de extraer las matrices $G_{n,j}$ de cada polinomio. Ahora, extenderemos el producto escalar estándar de Hermite para poder hacer productos escalares $\\left\\langle \\mathbb P_i,\\mathbb P_j \\right\\rangle$. La idea es, teniendo en cuenta que $\\mathbb P_i\\cdot\\mathbb P_j^T$ es una matriz de dimensión $(i+1)\\times(j+1)$, la ortogonalidad se manifiesta si, al aplicar el funcional de Hermite $\\mathcal L$ a cada entrada de la matriz el resultado es una matriz nula si $i\\neq j$ y una matriz cuadrada no nula si $i=j$: "
   ]
  },
  {
   "cell_type": "code",
   "execution_count": 14,
   "metadata": {},
   "outputs": [],
   "source": [
    "def dotP_H(P, Q):\n",
    "    M = P * transpose(Q)\n",
    "    return matrix([[L_H(M[i,j]) for i in range(P.nrows())] for j in range(Q.nrows())])"
   ]
  },
  {
   "cell_type": "code",
   "execution_count": 15,
   "metadata": {},
   "outputs": [
    {
     "data": {
      "text/plain": [
       "[0 0 0 0]\n",
       "[0 0 0 0]\n",
       "[0 0 0 0]\n",
       "[0 0 0 0]\n",
       "[0 0 0 0]"
      ]
     },
     "execution_count": 15,
     "metadata": {},
     "output_type": "execute_result"
    }
   ],
   "source": [
    "dotP_H(P_Hermite(3), P_Hermite(4))"
   ]
  },
  {
   "cell_type": "code",
   "execution_count": 16,
   "metadata": {},
   "outputs": [
    {
     "data": {
      "text/plain": [
       "[3/4*pi      0      0      0]\n",
       "[     0 1/4*pi      0      0]\n",
       "[     0      0 1/4*pi      0]\n",
       "[     0      0      0 3/4*pi]"
      ]
     },
     "execution_count": 16,
     "metadata": {},
     "output_type": "execute_result"
    }
   ],
   "source": [
    "dotP_H(P_Hermite(3), P_Hermite(3))"
   ]
  },
  {
   "cell_type": "markdown",
   "metadata": {},
   "source": [
    "Consideremos el sistema de polinomios ortogonales de Hermite y comprobemos la ortogonalidad entre grados utilizando esta funcionalidad:"
   ]
  },
  {
   "cell_type": "code",
   "execution_count": 17,
   "metadata": {},
   "outputs": [
    {
     "data": {
      "text/plain": [
       "[\n",
       "                       [  x^3 - 3/2*x]\n",
       "          [x^2 - 1/2]  [x^2*y - 1/2*y]\n",
       "     [x]  [      x*y]  [x*y^2 - 1/2*x]\n",
       "[1], [y], [y^2 - 1/2], [  y^3 - 3/2*y],\n",
       "\n",
       "[                x^4 - 3*x^2 + 3/4]\n",
       "[                  x^3*y - 3/2*x*y]\n",
       "[x^2*y^2 - 1/2*x^2 - 1/2*y^2 + 1/4]\n",
       "[                  x*y^3 - 3/2*x*y]\n",
       "[                y^4 - 3*y^2 + 3/4],\n",
       "\n",
       "[                 x^5 - 5*x^3 + 15/4*x]\n",
       "[              x^4*y - 3*x^2*y + 3/4*y]\n",
       "[x^3*y^2 - 1/2*x^3 - 3/2*x*y^2 + 3/4*x]\n",
       "[x^2*y^3 - 3/2*x^2*y - 1/2*y^3 + 3/4*y]\n",
       "[              x*y^4 - 3*x*y^2 + 3/4*x]\n",
       "[                 y^5 - 5*y^3 + 15/4*y]\n",
       "]"
      ]
     },
     "execution_count": 17,
     "metadata": {},
     "output_type": "execute_result"
    }
   ],
   "source": [
    "SPO_Hermite = [P_Hermite(j) for j in range(6)]\n",
    "SPO_Hermite"
   ]
  },
  {
   "cell_type": "code",
   "execution_count": 18,
   "metadata": {},
   "outputs": [
    {
     "name": "stdout",
     "output_type": "stream",
     "text": [
      "<P_0, P_0> = [pi]\n",
      "<P_1, P_0> = [0 0]\n",
      "<P_1, P_1> = [1/2*pi      0]\n",
      "[     0 1/2*pi]\n",
      "<P_2, P_0> = [0 0 0]\n",
      "<P_2, P_1> = [0 0 0]\n",
      "[0 0 0]\n",
      "<P_2, P_2> = [1/2*pi      0      0]\n",
      "[     0 1/4*pi      0]\n",
      "[     0      0 1/2*pi]\n",
      "<P_3, P_0> = [0 0 0 0]\n",
      "<P_3, P_1> = [0 0 0 0]\n",
      "[0 0 0 0]\n",
      "<P_3, P_2> = [0 0 0 0]\n",
      "[0 0 0 0]\n",
      "[0 0 0 0]\n",
      "<P_3, P_3> = [3/4*pi      0      0      0]\n",
      "[     0 1/4*pi      0      0]\n",
      "[     0      0 1/4*pi      0]\n",
      "[     0      0      0 3/4*pi]\n",
      "<P_4, P_0> = [0 0 0 0 0]\n",
      "<P_4, P_1> = [0 0 0 0 0]\n",
      "[0 0 0 0 0]\n",
      "<P_4, P_2> = [0 0 0 0 0]\n",
      "[0 0 0 0 0]\n",
      "[0 0 0 0 0]\n",
      "<P_4, P_3> = [0 0 0 0 0]\n",
      "[0 0 0 0 0]\n",
      "[0 0 0 0 0]\n",
      "[0 0 0 0 0]\n",
      "<P_4, P_4> = [3/2*pi      0      0      0      0]\n",
      "[     0 3/8*pi      0      0      0]\n",
      "[     0      0 1/4*pi      0      0]\n",
      "[     0      0      0 3/8*pi      0]\n",
      "[     0      0      0      0 3/2*pi]\n",
      "<P_5, P_0> = [0 0 0 0 0 0]\n",
      "<P_5, P_1> = [0 0 0 0 0 0]\n",
      "[0 0 0 0 0 0]\n",
      "<P_5, P_2> = [0 0 0 0 0 0]\n",
      "[0 0 0 0 0 0]\n",
      "[0 0 0 0 0 0]\n",
      "<P_5, P_3> = [0 0 0 0 0 0]\n",
      "[0 0 0 0 0 0]\n",
      "[0 0 0 0 0 0]\n",
      "[0 0 0 0 0 0]\n",
      "<P_5, P_4> = [0 0 0 0 0 0]\n",
      "[0 0 0 0 0 0]\n",
      "[0 0 0 0 0 0]\n",
      "[0 0 0 0 0 0]\n",
      "[0 0 0 0 0 0]\n",
      "<P_5, P_5> = [15/4*pi       0       0       0       0       0]\n",
      "[      0  3/4*pi       0       0       0       0]\n",
      "[      0       0  3/8*pi       0       0       0]\n",
      "[      0       0       0  3/8*pi       0       0]\n",
      "[      0       0       0       0  3/4*pi       0]\n",
      "[      0       0       0       0       0 15/4*pi]\n"
     ]
    }
   ],
   "source": [
    "for i in range(len(SPO_Hermite)):\n",
    "    P = SPO_Hermite[i]\n",
    "    for j in range(i+1):\n",
    "        Q = SPO_Hermite[j]\n",
    "        print(\"<P_\" + str(i) + \", P_\" + str(j) + \"> = \" + str(dotP_H(P,Q)))\n",
    "        \n",
    "    "
   ]
  },
  {
   "cell_type": "markdown",
   "metadata": {},
   "source": [
    "## Polinomios producto de Laguerre"
   ]
  },
  {
   "cell_type": "markdown",
   "metadata": {},
   "source": [
    "El procedimiento es análogo al seguido con los polinomios de Hermite. Creamos una función que calcula $P_{n-k,k}(x,y)=L^\\alpha_{n-k}(x)L^\\beta_k(y)$ y los coloca en un vector columna de tamaño $n+1$, que será nuestro $\\mathbb P_n$."
   ]
  },
  {
   "cell_type": "code",
   "execution_count": 19,
   "metadata": {},
   "outputs": [],
   "source": [
    "def P_Laguerre(n):\n",
    "    P = [R(laguerre(n-k,alpha,x)*laguerre(k,beta,y)) for k in range(n+1)]\n",
    "    P = [p/p.lc() for p in P] # polinomios monicos\n",
    "    return transpose(matrix(P))"
   ]
  },
  {
   "cell_type": "code",
   "execution_count": 20,
   "metadata": {},
   "outputs": [
    {
     "data": {
      "text/plain": [
       "[      x^2 - 6*x + 6]\n",
       "[x*y - 4*x - 2*y + 8]\n",
       "[    y^2 - 10*y + 20]"
      ]
     },
     "execution_count": 20,
     "metadata": {},
     "output_type": "execute_result"
    }
   ],
   "source": [
    "P_Laguerre(2)"
   ]
  },
  {
   "cell_type": "markdown",
   "metadata": {},
   "source": [
    "Generalizamos el producto escalar para que sea aplicado a parejas de vectores de polinomios."
   ]
  },
  {
   "cell_type": "code",
   "execution_count": 21,
   "metadata": {},
   "outputs": [],
   "source": [
    "def dotP_L(P, Q):\n",
    "    M = P * transpose(Q)\n",
    "    return matrix([[L_L(M[i,j]) for i in range(P.nrows())] for j in range(Q.nrows())])"
   ]
  },
  {
   "cell_type": "markdown",
   "metadata": {},
   "source": [
    "De nuevo, comprobamos que, cuando los grados difieren, el resultado de aplicar el producto escalar es una matriz nula, pero si hacemos el producto de un vector de grado $n$ consigo mismo, el resultado es una matriz cuadrada no nula."
   ]
  },
  {
   "cell_type": "code",
   "execution_count": 22,
   "metadata": {},
   "outputs": [
    {
     "data": {
      "text/plain": [
       "[0 0 0 0]\n",
       "[0 0 0 0]\n",
       "[0 0 0 0]\n",
       "[0 0 0 0]\n",
       "[0 0 0 0]"
      ]
     },
     "execution_count": 22,
     "metadata": {},
     "output_type": "execute_result"
    }
   ],
   "source": [
    "dotP_L(P_Laguerre(3), P_Laguerre(4))"
   ]
  },
  {
   "cell_type": "code",
   "execution_count": 23,
   "metadata": {},
   "outputs": [
    {
     "data": {
      "text/plain": [
       "[ 864    0    0    0]\n",
       "[   0  288    0    0]\n",
       "[   0    0  480    0]\n",
       "[   0    0    0 4320]"
      ]
     },
     "execution_count": 23,
     "metadata": {},
     "output_type": "execute_result"
    }
   ],
   "source": [
    "dotP_L(P_Laguerre(3), P_Laguerre(3))"
   ]
  },
  {
   "cell_type": "markdown",
   "metadata": {},
   "source": [
    "Calculamos algunos de estos polinomios y verificamos su ortogonalidad"
   ]
  },
  {
   "cell_type": "code",
   "execution_count": 24,
   "metadata": {},
   "outputs": [
    {
     "data": {
      "text/plain": [
       "[\n",
       "              [      x^2 - 6*x + 6]\n",
       "     [x - 2]  [x*y - 4*x - 2*y + 8]\n",
       "[1], [y - 4], [    y^2 - 10*y + 20],\n",
       "\n",
       "[                 x^3 - 12*x^2 + 36*x - 24]\n",
       "[  x^2*y - 4*x^2 - 6*x*y + 24*x + 6*y - 24]\n",
       "[x*y^2 - 10*x*y - 2*y^2 + 20*x + 20*y - 40]\n",
       "[                y^3 - 18*y^2 + 90*y - 120]\n",
       "]"
      ]
     },
     "execution_count": 24,
     "metadata": {},
     "output_type": "execute_result"
    }
   ],
   "source": [
    "SPO_Laguerre = [P_Laguerre(j) for j in range(4)]\n",
    "SPO_Laguerre"
   ]
  },
  {
   "cell_type": "code",
   "execution_count": 25,
   "metadata": {},
   "outputs": [
    {
     "name": "stdout",
     "output_type": "stream",
     "text": [
      "<P_0, P_0> = [6]\n",
      "<P_1, P_0> = [0 0]\n",
      "<P_1, P_1> = [12  0]\n",
      "[ 0 24]\n",
      "<P_2, P_0> = [0 0 0]\n",
      "<P_2, P_1> = [0 0 0]\n",
      "[0 0 0]\n",
      "<P_2, P_2> = [ 72   0   0]\n",
      "[  0  48   0]\n",
      "[  0   0 240]\n",
      "<P_3, P_0> = [0 0 0 0]\n",
      "<P_3, P_1> = [0 0 0 0]\n",
      "[0 0 0 0]\n",
      "<P_3, P_2> = [0 0 0 0]\n",
      "[0 0 0 0]\n",
      "[0 0 0 0]\n",
      "<P_3, P_3> = [ 864    0    0    0]\n",
      "[   0  288    0    0]\n",
      "[   0    0  480    0]\n",
      "[   0    0    0 4320]\n"
     ]
    }
   ],
   "source": [
    "for i in range(len(SPO_Laguerre)):\n",
    "    P = SPO_Laguerre[i]\n",
    "    for j in range(i+1):\n",
    "        Q = SPO_Laguerre[j]\n",
    "        print(\"<P_\" + str(i) + \", P_\" + str(j) + \"> = \" + str(dotP_L(P,Q)))\n",
    "        \n",
    "    "
   ]
  },
  {
   "cell_type": "markdown",
   "metadata": {},
   "source": [
    "## Mezclando ambas medidas"
   ]
  },
  {
   "cell_type": "code",
   "execution_count": 26,
   "metadata": {},
   "outputs": [],
   "source": [
    "def a(i):\n",
    "    return SR.var('a{}'.format(i))\n",
    "incognitas = [a(i) for i in range(1,25)]\n",
    "G32 = matrix([\n",
    "    [ a(1),  a(2),  a(3)],\n",
    "    [ a(4),  a(5),  a(6)],\n",
    "    [ a(7),  a(8),  a(9)],\n",
    "    [a(10), a(11), a(12)]\n",
    "])\n",
    "\n",
    "G31 = matrix([\n",
    "    [a(13), a(14)],\n",
    "    [a(15), a(16)],\n",
    "    [a(17), a(18)],\n",
    "    [a(19), a(20)]\n",
    "])\n",
    "\n",
    "G30 = matrix([\n",
    "    [a(21)],[a(22)],[a(23)],[a(24)]\n",
    "])"
   ]
  },
  {
   "cell_type": "code",
   "execution_count": 31,
   "metadata": {},
   "outputs": [
    {
     "data": {
      "text/plain": [
       "[   a1*x^2 + x^3 + a2*x*y + a3*y^2 + a13*x + a14*y + a21]\n",
       "[ a4*x^2 + a5*x*y + x^2*y + a6*y^2 + a15*x + a16*y + a22]\n",
       "[ a7*x^2 + a8*x*y + a9*y^2 + x*y^2 + a17*x + a18*y + a23]\n",
       "[a10*x^2 + a11*x*y + a12*y^2 + y^3 + a19*x + a20*y + a24]"
      ]
     },
     "execution_count": 31,
     "metadata": {},
     "output_type": "execute_result"
    }
   ],
   "source": [
    "P3 = X[3] + G32*X[2] + G31*X[1] + G30*X[0]\n",
    "P3 = matrix(P3)\n",
    "P3"
   ]
  },
  {
   "cell_type": "code",
   "execution_count": 32,
   "metadata": {},
   "outputs": [
    {
     "data": {
      "text/plain": [
       "[1/4*sqrt(pi)*(2*sqrt(pi)*a13 + 3*sqrt(pi)),\n",
       " 1/2*pi*a15,\n",
       " 1/4*sqrt(pi)*(2*sqrt(pi)*a17 + sqrt(pi)),\n",
       " 1/2*pi*a19,\n",
       " 1/2*pi*a14,\n",
       " 1/4*sqrt(pi)*(2*sqrt(pi)*a16 + sqrt(pi)),\n",
       " 1/2*pi*a18,\n",
       " 3/4*pi + 1/2*pi*a20,\n",
       " 1/2*pi*a3 + 1/2*sqrt(pi)*(sqrt(pi)*a1 + 2*sqrt(pi)*a21),\n",
       " 1/2*pi*a6 + 1/2*sqrt(pi)*(2*sqrt(pi)*a22 + sqrt(pi)*a4),\n",
       " 1/2*pi*a9 + 1/2*sqrt(pi)*(2*sqrt(pi)*a23 + sqrt(pi)*a7),\n",
       " 1/2*pi*a12 + 1/2*sqrt(pi)*(sqrt(pi)*a10 + 2*sqrt(pi)*a24),\n",
       " 144*a1 + 36*a13 + 48*a14 + 144*a2 + 12*a21 + 240*a3 + 720,\n",
       " 36*a15 + 48*a16 + 12*a22 + 144*a4 + 144*a5 + 240*a6 + 576,\n",
       " 36*a17 + 48*a18 + 12*a23 + 144*a7 + 144*a8 + 240*a9 + 720,\n",
       " 144*a10 + 144*a11 + 240*a12 + 36*a19 + 48*a20 + 12*a24 + 1440,\n",
       " 144*a1 + 48*a13 + 120*a14 + 240*a2 + 24*a21 + 720*a3 + 576,\n",
       " 48*a15 + 120*a16 + 24*a22 + 144*a4 + 240*a5 + 720*a6 + 720,\n",
       " 48*a17 + 120*a18 + 24*a23 + 144*a7 + 240*a8 + 720*a9 + 1440,\n",
       " 144*a10 + 240*a11 + 720*a12 + 48*a19 + 120*a20 + 24*a24 + 5040,\n",
       " 36*a1 + 12*a13 + 24*a14 + 48*a2 + 6*a21 + 120*a3 + 144,\n",
       " 12*a15 + 24*a16 + 6*a22 + 36*a4 + 48*a5 + 120*a6 + 144,\n",
       " 12*a17 + 24*a18 + 6*a23 + 36*a7 + 48*a8 + 120*a9 + 240,\n",
       " 36*a10 + 48*a11 + 120*a12 + 12*a19 + 24*a20 + 6*a24 + 720]"
      ]
     },
     "execution_count": 32,
     "metadata": {},
     "output_type": "execute_result"
    }
   ],
   "source": [
    "ecs = dotP_H(P3, X[1]).list() + dotP_H(P3, X[0]).list() + dotP_L(P3, X[1]).list() + dotP_L(P3, X[0]).list()\n",
    "ecs"
   ]
  },
  {
   "cell_type": "code",
   "execution_count": 33,
   "metadata": {},
   "outputs": [
    {
     "data": {
      "text/plain": [
       "24"
      ]
     },
     "execution_count": 33,
     "metadata": {},
     "output_type": "execute_result"
    }
   ],
   "source": [
    "len(ecs)"
   ]
  },
  {
   "cell_type": "code",
   "execution_count": 34,
   "metadata": {},
   "outputs": [
    {
     "data": {
      "text/plain": [
       "[a1 == (-1149/52),\n",
       " a2 == (1275/52),\n",
       " a3 == (-255/52),\n",
       " a4 == (-41/2),\n",
       " a5 == (99/4),\n",
       " a6 == (-11/2),\n",
       " a7 == (-123/4),\n",
       " a8 == (165/4),\n",
       " a9 == (-41/4),\n",
       " a10 == (-2343/26),\n",
       " a11 == (7029/52),\n",
       " a12 == (-933/26),\n",
       " a13 == (-3/2),\n",
       " a14 == 0,\n",
       " a15 == 0,\n",
       " a16 == (-1/2),\n",
       " a17 == (-1/2),\n",
       " a18 == 0,\n",
       " a19 == 0,\n",
       " a20 == (-3/2),\n",
       " a21 == (27/2),\n",
       " a22 == 13,\n",
       " a23 == (41/2),\n",
       " a24 == 63]"
      ]
     },
     "execution_count": 34,
     "metadata": {},
     "output_type": "execute_result"
    }
   ],
   "source": [
    "sol = solve(ecs, incognitas)[0]\n",
    "sol"
   ]
  },
  {
   "cell_type": "code",
   "execution_count": 35,
   "metadata": {},
   "outputs": [],
   "source": [
    "coefs_pol = [s.right() for s in sol]"
   ]
  },
  {
   "cell_type": "code",
   "execution_count": 36,
   "metadata": {},
   "outputs": [],
   "source": [
    "G32 = matrix([\n",
    "    coefs_pol[0:3],\n",
    "    coefs_pol[3:6],\n",
    "    coefs_pol[6:9],\n",
    "    coefs_pol[9:12],\n",
    "])\n",
    "\n",
    "G31 = matrix([\n",
    "    coefs_pol[12:14],\n",
    "    coefs_pol[14:16],\n",
    "    coefs_pol[16:18],\n",
    "    coefs_pol[18:20]\n",
    "])\n",
    "\n",
    "G30 = matrix([\n",
    "    coefs_pol[20:21],\n",
    "    coefs_pol[21:22],\n",
    "    coefs_pol[22:23],\n",
    "    coefs_pol[23:24]\n",
    "])"
   ]
  },
  {
   "cell_type": "code",
   "execution_count": 37,
   "metadata": {},
   "outputs": [
    {
     "data": {
      "text/plain": [
       "[x^3 - 1149/52*x^2 + 1275/52*x*y - 255/52*y^2 - 3/2*x + 27/2]\n",
       "[        x^2*y - 41/2*x^2 + 99/4*x*y - 11/2*y^2 - 1/2*y + 13]\n",
       "[    x*y^2 - 123/4*x^2 + 165/4*x*y - 41/4*y^2 - 1/2*x + 41/2]\n",
       "[  y^3 - 2343/26*x^2 + 7029/52*x*y - 933/26*y^2 - 3/2*y + 63]"
      ]
     },
     "execution_count": 37,
     "metadata": {},
     "output_type": "execute_result"
    }
   ],
   "source": [
    "P3 = X[3] + G32*X[2] + G31*X[1] + G30*X[0]\n",
    "P3 = matrix(P3)\n",
    "P3"
   ]
  },
  {
   "cell_type": "code",
   "execution_count": 38,
   "metadata": {},
   "outputs": [
    {
     "data": {
      "text/plain": [
       "(\n",
       "[0 0 0 0]             [0 0 0 0]           \n",
       "[0 0 0 0], [0 0 0 0], [0 0 0 0], [0 0 0 0]\n",
       ")"
      ]
     },
     "execution_count": 38,
     "metadata": {},
     "output_type": "execute_result"
    }
   ],
   "source": [
    "dotP_H(P3,X[1]), dotP_H(P3,X[0]), dotP_L(P3,X[1]), dotP_L(P3,X[0])   # (2,2)"
   ]
  },
  {
   "cell_type": "code",
   "execution_count": 39,
   "metadata": {},
   "outputs": [
    {
     "data": {
      "text/plain": [
       "[x^3 - 1149/52*x^2 + 1275/52*x*y - 255/52*y^2 - 3/2*x + 27/2]\n",
       "[        x^2*y - 41/2*x^2 + 99/4*x*y - 11/2*y^2 - 1/2*y + 13]\n",
       "[    x*y^2 - 123/4*x^2 + 165/4*x*y - 41/4*y^2 - 1/2*x + 41/2]\n",
       "[  y^3 - 2343/26*x^2 + 7029/52*x*y - 933/26*y^2 - 3/2*y + 63]"
      ]
     },
     "execution_count": 39,
     "metadata": {},
     "output_type": "execute_result"
    }
   ],
   "source": [
    "P3"
   ]
  },
  {
   "cell_type": "code",
   "execution_count": 47,
   "metadata": {},
   "outputs": [
    {
     "data": {
      "text/plain": [
       "y^3 - 2343/26*x^2 + 7029/52*x*y - 933/26*y^2 - 3/2*y + 63"
      ]
     },
     "execution_count": 47,
     "metadata": {},
     "output_type": "execute_result"
    }
   ],
   "source": [
    "p = P3[3][0]\n",
    "p.factor()"
   ]
  },
  {
   "cell_type": "markdown",
   "metadata": {},
   "source": [
    "Ninguno factoriza"
   ]
  },
  {
   "cell_type": "code",
   "execution_count": 44,
   "metadata": {},
   "outputs": [
    {
     "data": {
      "text/plain": [
       "(x - y) * (x + y)"
      ]
     },
     "execution_count": 44,
     "metadata": {},
     "output_type": "execute_result"
    }
   ],
   "source": [
    "q = R(x^2-y^2)\n",
    "q.factor()"
   ]
  },
  {
   "cell_type": "code",
   "execution_count": null,
   "metadata": {},
   "outputs": [],
   "source": []
  }
 ],
 "metadata": {
  "kernelspec": {
   "display_name": "SageMath 9.3",
   "language": "sage",
   "name": "sagemath"
  },
  "language_info": {
   "codemirror_mode": {
    "name": "ipython",
    "version": 3
   },
   "file_extension": ".py",
   "mimetype": "text/x-python",
   "name": "python",
   "nbconvert_exporter": "python",
   "pygments_lexer": "ipython3",
   "version": "3.9.2"
  }
 },
 "nbformat": 4,
 "nbformat_minor": 4
}
